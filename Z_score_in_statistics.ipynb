{
  "nbformat": 4,
  "nbformat_minor": 0,
  "metadata": {
    "colab": {
      "provenance": []
    },
    "kernelspec": {
      "name": "python3",
      "display_name": "Python 3"
    },
    "language_info": {
      "name": "python"
    }
  },
  "cells": [
    {
      "cell_type": "code",
      "execution_count": 1,
      "metadata": {
        "id": "Q8DvFf7S1HMM"
      },
      "outputs": [],
      "source": [
        "import numpy as np"
      ]
    },
    {
      "cell_type": "markdown",
      "source": [
        "Mean of the dataset, the Standard Deviation of tha dataset and the z score of data points"
      ],
      "metadata": {
        "id": "ZrfoQex45ciH"
      }
    },
    {
      "cell_type": "code",
      "source": [
        "def calculate_z_score(data):\n",
        "  mean = np.mean(data)\n",
        "  std_dev = np.std(data)\n",
        "  z_scores = (data - mean) / std_dev\n",
        "  return z_scores"
      ],
      "metadata": {
        "id": "RBMGzwZL13D2"
      },
      "execution_count": 4,
      "outputs": []
    },
    {
      "cell_type": "code",
      "source": [
        "#dataset\n",
        "dataset = [3,9,23,43,53,4,5,30,35,50,70,150,6,7,8,9, 10]\n",
        "z_scores = calculate_z_score(dataset)\n",
        "print('Z-Score :', z_scores)"
      ],
      "metadata": {
        "colab": {
          "base_uri": "https://localhost:8080/"
        },
        "id": "g5KL9HNm3CNn",
        "outputId": "bffd19bd-b915-4ca7-c89e-e8028b6c2cfe"
      },
      "execution_count": 5,
      "outputs": [
        {
          "output_type": "stream",
          "name": "stdout",
          "text": [
            "Z-Score : [-0.7574907  -0.59097335 -0.20243286  0.35262498  0.6301539  -0.72973781\n",
            " -0.70198492 -0.00816262  0.13060185  0.54689523  1.10195307  3.32218443\n",
            " -0.67423202 -0.64647913 -0.61872624 -0.59097335 -0.56322046]\n"
          ]
        }
      ]
    },
    {
      "cell_type": "markdown",
      "source": [
        "Data points which lies outside 3 standard deviatioms are outliers"
      ],
      "metadata": {
        "id": "Zq2Okyi250pn"
      }
    },
    {
      "cell_type": "code",
      "source": [
        "outliers = [data_point for data_point, \\\n",
        "          z_score in zip(dataset, z_scores) if z_score > 3]\n",
        "print(f'\\nThe outliers in the dataset is {outliers}')"
      ],
      "metadata": {
        "colab": {
          "base_uri": "https://localhost:8080/"
        },
        "id": "kFCvCA8e4zMF",
        "outputId": "81d4398c-6f6b-4079-ff27-1dab30ac14c2"
      },
      "execution_count": 6,
      "outputs": [
        {
          "output_type": "stream",
          "name": "stdout",
          "text": [
            "\n",
            "The outliers in the dataset is [150]\n"
          ]
        }
      ]
    }
  ]
}